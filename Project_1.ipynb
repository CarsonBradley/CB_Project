{
 "cells": [
  {
   "cell_type": "code",
   "execution_count": 1,
   "metadata": {},
   "outputs": [],
   "source": [
    "import pandas as pd"
   ]
  },
  {
   "cell_type": "code",
   "execution_count": 12,
   "metadata": {},
   "outputs": [
    {
     "name": "stdout",
     "output_type": "stream",
     "text": [
      "          state             county      candidate party  total_votes    won\n",
      "0      Delaware        Kent County      Joe Biden   DEM        44552   True\n",
      "1      Delaware        Kent County   Donald Trump   REP        41009  False\n",
      "2      Delaware        Kent County   Jo Jorgensen   LIB         1044  False\n",
      "3      Delaware        Kent County  Howie Hawkins   GRN          420  False\n",
      "4      Delaware  New Castle County      Joe Biden   DEM       195034   True\n",
      "...         ...                ...            ...   ...          ...    ...\n",
      "32172   Arizona    Maricopa County      Write-ins   WRI         1331  False\n",
      "32173   Arizona      Mohave County   Donald Trump   REP        78535   True\n",
      "32174   Arizona      Mohave County      Joe Biden   DEM        24831  False\n",
      "32175   Arizona      Mohave County   Jo Jorgensen   LIB         1302  False\n",
      "32176   Arizona      Mohave County      Write-ins   WRI           37  False\n",
      "\n",
      "[32177 rows x 6 columns]\n"
     ]
    }
   ],
   "source": [
    "df = pd.read_csv('president_county_candidate.csv')\n",
    "print(df)"
   ]
  },
  {
   "cell_type": "code",
   "execution_count": null,
   "metadata": {},
   "outputs": [],
   "source": []
  }
 ],
 "metadata": {
  "kernelspec": {
   "display_name": "Python 3",
   "language": "python",
   "name": "python3"
  },
  "language_info": {
   "codemirror_mode": {
    "name": "ipython",
    "version": 3
   },
   "file_extension": ".py",
   "mimetype": "text/x-python",
   "name": "python",
   "nbconvert_exporter": "python",
   "pygments_lexer": "ipython3",
   "version": "3.8.6"
  }
 },
 "nbformat": 4,
 "nbformat_minor": 2
}
